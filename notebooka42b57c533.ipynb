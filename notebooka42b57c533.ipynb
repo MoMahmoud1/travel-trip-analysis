{
 "cells": [
  {
   "cell_type": "code",
   "execution_count": 1,
   "id": "5b741030",
   "metadata": {
    "_cell_guid": "b1076dfc-b9ad-4769-8c92-a6c4dae69d19",
    "_uuid": "8f2839f25d086af736a60e9eeb907d3b93b6e0e5",
    "execution": {
     "iopub.execute_input": "2023-03-12T23:13:20.069247Z",
     "iopub.status.busy": "2023-03-12T23:13:20.068439Z",
     "iopub.status.idle": "2023-03-12T23:13:20.088217Z",
     "shell.execute_reply": "2023-03-12T23:13:20.086913Z"
    },
    "papermill": {
     "duration": 0.028883,
     "end_time": "2023-03-12T23:13:20.092358",
     "exception": false,
     "start_time": "2023-03-12T23:13:20.063475",
     "status": "completed"
    },
    "tags": []
   },
   "outputs": [
    {
     "name": "stdout",
     "output_type": "stream",
     "text": [
      "/kaggle/input/traveler-trip-data/Travel details dataset.csv\n"
     ]
    }
   ],
   "source": [
    "# This Python 3 environment comes with many helpful analytics libraries installed\n",
    "# It is defined by the kaggle/python Docker image: https://github.com/kaggle/docker-python\n",
    "# For example, here's several helpful packages to load\n",
    "\n",
    "import numpy as np # linear algebra\n",
    "import pandas as pd # data processing, CSV file I/O (e.g. pd.read_csv)\n",
    "\n",
    "# Input data files are available in the read-only \"../input/\" directory\n",
    "# For example, running this (by clicking run or pressing Shift+Enter) will list all files under the input directory\n",
    "\n",
    "import os\n",
    "for dirname, _, filenames in os.walk('/kaggle/input'):\n",
    "    for filename in filenames:\n",
    "        print(os.path.join(dirname, filename))\n",
    "\n",
    "# You can write up to 20GB to the current directory (/kaggle/working/) that gets preserved as output when you create a version using \"Save & Run All\" \n",
    "# You can also write temporary files to /kaggle/temp/, but they won't be saved outside of the current session"
   ]
  },
  {
   "cell_type": "code",
   "execution_count": 2,
   "id": "ab306779",
   "metadata": {
    "execution": {
     "iopub.execute_input": "2023-03-12T23:13:20.099120Z",
     "iopub.status.busy": "2023-03-12T23:13:20.098743Z",
     "iopub.status.idle": "2023-03-12T23:13:20.115017Z",
     "shell.execute_reply": "2023-03-12T23:13:20.113684Z"
    },
    "papermill": {
     "duration": 0.022314,
     "end_time": "2023-03-12T23:13:20.117534",
     "exception": false,
     "start_time": "2023-03-12T23:13:20.095220",
     "status": "completed"
    },
    "tags": []
   },
   "outputs": [],
   "source": [
    "import pandas as pd\n",
    "df = pd.read_csv('/kaggle/input/traveler-trip-data/Travel details dataset.csv')"
   ]
  },
  {
   "cell_type": "code",
   "execution_count": 3,
   "id": "2f4e9d77",
   "metadata": {
    "execution": {
     "iopub.execute_input": "2023-03-12T23:13:20.123839Z",
     "iopub.status.busy": "2023-03-12T23:13:20.123460Z",
     "iopub.status.idle": "2023-03-12T23:13:20.139007Z",
     "shell.execute_reply": "2023-03-12T23:13:20.138066Z"
    },
    "papermill": {
     "duration": 0.021102,
     "end_time": "2023-03-12T23:13:20.141053",
     "exception": false,
     "start_time": "2023-03-12T23:13:20.119951",
     "status": "completed"
    },
    "tags": []
   },
   "outputs": [
    {
     "data": {
      "text/plain": [
       "Trip ID                   int64\n",
       "Destination              object\n",
       "Start date               object\n",
       "End date                 object\n",
       "Duration (days)         float64\n",
       "Traveler name            object\n",
       "Traveler age            float64\n",
       "Traveler gender          object\n",
       "Traveler nationality     object\n",
       "Accommodation type       object\n",
       "Accommodation cost       object\n",
       "Transportation type      object\n",
       "Transportation cost      object\n",
       "dtype: object"
      ]
     },
     "execution_count": 3,
     "metadata": {},
     "output_type": "execute_result"
    }
   ],
   "source": [
    "df.dtypes"
   ]
  },
  {
   "cell_type": "code",
   "execution_count": 4,
   "id": "6d8f1b87",
   "metadata": {
    "execution": {
     "iopub.execute_input": "2023-03-12T23:13:20.147464Z",
     "iopub.status.busy": "2023-03-12T23:13:20.147075Z",
     "iopub.status.idle": "2023-03-12T23:13:20.174903Z",
     "shell.execute_reply": "2023-03-12T23:13:20.173672Z"
    },
    "papermill": {
     "duration": 0.033738,
     "end_time": "2023-03-12T23:13:20.177378",
     "exception": false,
     "start_time": "2023-03-12T23:13:20.143640",
     "status": "completed"
    },
    "tags": []
   },
   "outputs": [
    {
     "data": {
      "text/html": [
       "<div>\n",
       "<style scoped>\n",
       "    .dataframe tbody tr th:only-of-type {\n",
       "        vertical-align: middle;\n",
       "    }\n",
       "\n",
       "    .dataframe tbody tr th {\n",
       "        vertical-align: top;\n",
       "    }\n",
       "\n",
       "    .dataframe thead th {\n",
       "        text-align: right;\n",
       "    }\n",
       "</style>\n",
       "<table border=\"1\" class=\"dataframe\">\n",
       "  <thead>\n",
       "    <tr style=\"text-align: right;\">\n",
       "      <th></th>\n",
       "      <th>Trip ID</th>\n",
       "      <th>Destination</th>\n",
       "      <th>Start date</th>\n",
       "      <th>End date</th>\n",
       "      <th>Duration (days)</th>\n",
       "      <th>Traveler name</th>\n",
       "      <th>Traveler age</th>\n",
       "      <th>Traveler gender</th>\n",
       "      <th>Traveler nationality</th>\n",
       "      <th>Accommodation type</th>\n",
       "      <th>Accommodation cost</th>\n",
       "      <th>Transportation type</th>\n",
       "      <th>Transportation cost</th>\n",
       "    </tr>\n",
       "  </thead>\n",
       "  <tbody>\n",
       "    <tr>\n",
       "      <th>0</th>\n",
       "      <td>1</td>\n",
       "      <td>London, UK</td>\n",
       "      <td>5/1/2023</td>\n",
       "      <td>5/8/2023</td>\n",
       "      <td>7.0</td>\n",
       "      <td>John Smith</td>\n",
       "      <td>35.0</td>\n",
       "      <td>Male</td>\n",
       "      <td>American</td>\n",
       "      <td>Hotel</td>\n",
       "      <td>1200</td>\n",
       "      <td>Flight</td>\n",
       "      <td>600</td>\n",
       "    </tr>\n",
       "    <tr>\n",
       "      <th>1</th>\n",
       "      <td>2</td>\n",
       "      <td>Phuket, Thailand</td>\n",
       "      <td>6/15/2023</td>\n",
       "      <td>6/20/2023</td>\n",
       "      <td>5.0</td>\n",
       "      <td>Jane Doe</td>\n",
       "      <td>28.0</td>\n",
       "      <td>Female</td>\n",
       "      <td>Canadian</td>\n",
       "      <td>Resort</td>\n",
       "      <td>800</td>\n",
       "      <td>Flight</td>\n",
       "      <td>500</td>\n",
       "    </tr>\n",
       "    <tr>\n",
       "      <th>2</th>\n",
       "      <td>3</td>\n",
       "      <td>Bali, Indonesia</td>\n",
       "      <td>7/1/2023</td>\n",
       "      <td>7/8/2023</td>\n",
       "      <td>7.0</td>\n",
       "      <td>David Lee</td>\n",
       "      <td>45.0</td>\n",
       "      <td>Male</td>\n",
       "      <td>Korean</td>\n",
       "      <td>Villa</td>\n",
       "      <td>1000</td>\n",
       "      <td>Flight</td>\n",
       "      <td>700</td>\n",
       "    </tr>\n",
       "    <tr>\n",
       "      <th>3</th>\n",
       "      <td>4</td>\n",
       "      <td>New York, USA</td>\n",
       "      <td>8/15/2023</td>\n",
       "      <td>8/29/2023</td>\n",
       "      <td>14.0</td>\n",
       "      <td>Sarah Johnson</td>\n",
       "      <td>29.0</td>\n",
       "      <td>Female</td>\n",
       "      <td>British</td>\n",
       "      <td>Hotel</td>\n",
       "      <td>2000</td>\n",
       "      <td>Flight</td>\n",
       "      <td>1000</td>\n",
       "    </tr>\n",
       "    <tr>\n",
       "      <th>4</th>\n",
       "      <td>5</td>\n",
       "      <td>Tokyo, Japan</td>\n",
       "      <td>9/10/2023</td>\n",
       "      <td>9/17/2023</td>\n",
       "      <td>7.0</td>\n",
       "      <td>Kim Nguyen</td>\n",
       "      <td>26.0</td>\n",
       "      <td>Female</td>\n",
       "      <td>Vietnamese</td>\n",
       "      <td>Airbnb</td>\n",
       "      <td>700</td>\n",
       "      <td>Train</td>\n",
       "      <td>200</td>\n",
       "    </tr>\n",
       "  </tbody>\n",
       "</table>\n",
       "</div>"
      ],
      "text/plain": [
       "   Trip ID       Destination Start date   End date  Duration (days)  \\\n",
       "0        1        London, UK   5/1/2023   5/8/2023              7.0   \n",
       "1        2  Phuket, Thailand  6/15/2023  6/20/2023              5.0   \n",
       "2        3   Bali, Indonesia   7/1/2023   7/8/2023              7.0   \n",
       "3        4     New York, USA  8/15/2023  8/29/2023             14.0   \n",
       "4        5      Tokyo, Japan  9/10/2023  9/17/2023              7.0   \n",
       "\n",
       "   Traveler name  Traveler age Traveler gender Traveler nationality  \\\n",
       "0     John Smith          35.0            Male             American   \n",
       "1       Jane Doe          28.0          Female             Canadian   \n",
       "2      David Lee          45.0            Male               Korean   \n",
       "3  Sarah Johnson          29.0          Female              British   \n",
       "4     Kim Nguyen          26.0          Female           Vietnamese   \n",
       "\n",
       "  Accommodation type Accommodation cost Transportation type  \\\n",
       "0              Hotel               1200              Flight   \n",
       "1             Resort                800              Flight   \n",
       "2              Villa               1000              Flight   \n",
       "3              Hotel               2000              Flight   \n",
       "4             Airbnb                700               Train   \n",
       "\n",
       "  Transportation cost  \n",
       "0                 600  \n",
       "1                 500  \n",
       "2                 700  \n",
       "3                1000  \n",
       "4                 200  "
      ]
     },
     "execution_count": 4,
     "metadata": {},
     "output_type": "execute_result"
    }
   ],
   "source": [
    "df.head()"
   ]
  },
  {
   "cell_type": "code",
   "execution_count": 5,
   "id": "7ddbe08a",
   "metadata": {
    "execution": {
     "iopub.execute_input": "2023-03-12T23:13:20.185362Z",
     "iopub.status.busy": "2023-03-12T23:13:20.184132Z",
     "iopub.status.idle": "2023-03-12T23:13:20.450915Z",
     "shell.execute_reply": "2023-03-12T23:13:20.450092Z"
    },
    "papermill": {
     "duration": 0.273044,
     "end_time": "2023-03-12T23:13:20.453276",
     "exception": false,
     "start_time": "2023-03-12T23:13:20.180232",
     "status": "completed"
    },
    "tags": []
   },
   "outputs": [
    {
     "data": {
      "image/png": "[encoded data removed]",
      "text/plain": [
       "<Figure size 640x480 with 1 Axes>"
      ]
     },
     "metadata": {},
     "output_type": "display_data"
    }
   ],
   "source": [
    "df['Destination'] = df['Destination'].str.split(',').str[0]\n",
    "popular_destinations = df['Destination'].value_counts()[:10]\n",
    "import matplotlib.pyplot as plt\n",
    "# Plot a bar chart of the most popular destinations\n",
    "popular_destinations.plot.bar()\n",
    "\n",
    "# Set the title and axis labels\n",
    "plt.title('Most Popular Travel Destinations')\n",
    "plt.xlabel('Destination')\n",
    "plt.ylabel('Number of Trips')\n",
    "\n",
    "# Display the graph\n",
    "plt.show()"
   ]
  },
  {
   "cell_type": "code",
   "execution_count": 6,
   "id": "7d728e10",
   "metadata": {
    "execution": {
     "iopub.execute_input": "2023-03-12T23:13:20.462551Z",
     "iopub.status.busy": "2023-03-12T23:13:20.461234Z",
     "iopub.status.idle": "2023-03-12T23:13:20.582019Z",
     "shell.execute_reply": "2023-03-12T23:13:20.580796Z"
    },
    "papermill": {
     "duration": 0.127971,
     "end_time": "2023-03-12T23:13:20.584556",
     "exception": false,
     "start_time": "2023-03-12T23:13:20.456585",
     "status": "completed"
    },
    "tags": []
   },
   "outputs": [
    {
     "data": {
      "image/png": "[encoded data removed]",
      "text/plain": [
       "<Figure size 640x480 with 1 Axes>"
      ]
     },
     "metadata": {},
     "output_type": "display_data"
    }
   ],
   "source": [
    "transport_counts = df['Transportation type'].value_counts()[:5]\n",
    "\n",
    "labels = transport_counts.index.tolist()\n",
    "sizes = transport_counts.tolist()\n",
    "plt.pie(sizes, labels=labels, autopct='%1.1f%%', startangle=90)\n",
    "plt.axis('equal')\n",
    "plt.title('Transportation Types')\n",
    "plt.show()"
   ]
  }
 ],
 "metadata": {
  "kernelspec": {
   "display_name": "Python 3",
   "language": "python",
   "name": "python3"
  },
  "language_info": {
   "codemirror_mode": {
    "name": "ipython",
    "version": 3
   },
   "file_extension": ".py",
   "mimetype": "text/x-python",
   "name": "python",
   "nbconvert_exporter": "python",
   "pygments_lexer": "ipython3",
   "version": "3.7.12"
  },
  "papermill": {
   "default_parameters": {},
   "duration": 10.443951,
   "end_time": "2023-03-12T23:13:21.313186",
   "environment_variables": {},
   "exception": null,
   "input_path": "__notebook__.ipynb",
   "output_path": "__notebook__.ipynb",
   "parameters": {},
   "start_time": "2023-03-12T23:13:10.869235",
   "version": "2.4.0"
  }
 },
 "nbformat": 4,
 "nbformat_minor": 5
}
